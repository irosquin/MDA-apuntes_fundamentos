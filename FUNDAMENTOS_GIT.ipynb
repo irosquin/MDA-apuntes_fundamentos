{
  "nbformat": 4,
  "nbformat_minor": 0,
  "metadata": {
    "colab": {
      "name": "Untitled1.ipynb",
      "provenance": [],
      "toc_visible": true,
      "authorship_tag": "ABX9TyPk+EVLmTRBiTothNvAAIBh",
      "include_colab_link": true
    },
    "kernelspec": {
      "name": "python3",
      "display_name": "Python 3"
    }
  },
  "cells": [
    {
      "cell_type": "markdown",
      "metadata": {
        "id": "view-in-github",
        "colab_type": "text"
      },
      "source": [
        "<a href=\"https://colab.research.google.com/github/irosquin/MDA_apuntes_fundamentos/blob/main/FUNDAMENTOS_GIT.ipynb\" target=\"_parent\"><img src=\"https://colab.research.google.com/assets/colab-badge.svg\" alt=\"Open In Colab\"/></a>"
      ]
    },
    {
      "cell_type": "markdown",
      "metadata": {
        "id": "P27LivwkWrtS"
      },
      "source": [
        "## Sesión 3 Fundamentos MDA: GIT"
      ]
    },
    {
      "cell_type": "markdown",
      "metadata": {
        "id": "I9Y6AnCcW-oR"
      },
      "source": [
        "**Version control :** Process of tracking and managing different versions (or drafts) of a document so you know wich is the current iteration of a file.\n",
        "Objective: Learn who made the changes, what changes have been made, where, when, and why the changes were made.\n",
        "\n",
        "\n",
        "Types of Version Control Systems:\n",
        "\n",
        "1.   **Centralized version control**: Sólo hay un repositorio, al cambiar una versión se sube o se baja directamente del servidor central donde tus compañeros pueden ver y modificar lo que has trabajado (Update/commit)\n",
        "2.   **Distributed version control**: Hay como un repositorio intermedio en el que puedes subir los cambios del local, del working directory, sin subirlo al central donde loc compañeros ven los cambios (u commint, u push, they pull, they update) \n"
      ]
    },
    {
      "cell_type": "markdown",
      "metadata": {
        "id": "td_sAozEYVi1"
      },
      "source": [
        "\n",
        "\n",
        "*GIT: Distributed version control.*\n",
        "\n",
        "> **Repository**: Se puede clonar (clonar de github, el tuyo o el de otra persona), o crear uno local... el de github es remoto...`\n",
        "\n",
        "> **Branch**: History of successive changes to the code. Cada cambio, cada acción, es un commit y ha de describirse (se indica quién hace cada commit en la rama)\n",
        "\n",
        "\n"
      ]
    },
    {
      "cell_type": "markdown",
      "metadata": {
        "id": "kz9nuGJaZ3bp"
      },
      "source": [
        "**Pasos ejercicio de prueba**\n",
        "1. Crear un repositorio en GitKraken local.\n",
        "2. Crear una rama.\n",
        "3. Crear un archivo de Brackets y guardarlo en ese repo local.\n",
        "4. El archivo aparece como work in progress... Hacer un commit.\n",
        "5. Abrirlo en Gitcracken y modificarlo -- Hacer un commit.\n",
        "6. Ver que en local está modificado."
      ]
    }
  ]
}